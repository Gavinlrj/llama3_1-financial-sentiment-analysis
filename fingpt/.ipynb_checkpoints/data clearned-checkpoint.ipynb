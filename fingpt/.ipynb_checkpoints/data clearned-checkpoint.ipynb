{
 "cells": [
  {
   "cell_type": "code",
   "execution_count": 1,
   "id": "6ff58853-5de6-4d5e-a227-9f9a6886db22",
   "metadata": {},
   "outputs": [
    {
     "data": {
      "application/vnd.jupyter.widget-view+json": {
       "model_id": "f6556d0407c449d987a2322171504771",
       "version_major": 2,
       "version_minor": 0
      },
      "text/plain": [
       "README.md:   0%|          | 0.00/464 [00:00<?, ?B/s]"
      ]
     },
     "metadata": {},
     "output_type": "display_data"
    },
    {
     "data": {
      "application/vnd.jupyter.widget-view+json": {
       "model_id": "54eb2ee3d16e4151a25c7f0896a3eef5",
       "version_major": 2,
       "version_minor": 0
      },
      "text/plain": [
       "train-00000-of-00001.parquet:   0%|          | 0.00/573k [00:00<?, ?B/s]"
      ]
     },
     "metadata": {},
     "output_type": "display_data"
    },
    {
     "data": {
      "application/vnd.jupyter.widget-view+json": {
       "model_id": "c7a64a3739984ab0885abc252c63c94d",
       "version_major": 2,
       "version_minor": 0
      },
      "text/plain": [
       "validation-00000-of-00001.parquet:   0%|          | 0.00/155k [00:00<?, ?B/s]"
      ]
     },
     "metadata": {},
     "output_type": "display_data"
    },
    {
     "data": {
      "application/vnd.jupyter.widget-view+json": {
       "model_id": "9e80f296fa384c8496218351fddf29a0",
       "version_major": 2,
       "version_minor": 0
      },
      "text/plain": [
       "Generating train split:   0%|          | 0/9543 [00:00<?, ? examples/s]"
      ]
     },
     "metadata": {},
     "output_type": "display_data"
    },
    {
     "data": {
      "application/vnd.jupyter.widget-view+json": {
       "model_id": "235ae65e7d354890aaeed2f87fa643d4",
       "version_major": 2,
       "version_minor": 0
      },
      "text/plain": [
       "Generating validation split:   0%|          | 0/2388 [00:00<?, ? examples/s]"
      ]
     },
     "metadata": {},
     "output_type": "display_data"
    },
    {
     "name": "stdout",
     "output_type": "stream",
     "text": [
      "TFNS Dataset Head:\n",
      "                                             context    answer  \\\n",
      "0  $BYND - JPMorgan reels in expectations on Beyo...  negative   \n",
      "1  $CCL $RCL - Nomura points to bookings weakness...  negative   \n",
      "2  $CX - Cemex cut at Credit Suisse, J.P. Morgan ...  negative   \n",
      "3  $ESS: BTIG Research cuts to Neutral https://t....  negative   \n",
      "4  $FNKO - Funko slides after Piper Jaffray PT cu...  negative   \n",
      "\n",
      "                                            question  \n",
      "0  What is the sentiment of this tweet? Please ch...  \n",
      "1  What is the sentiment of this tweet? Please ch...  \n",
      "2  What is the sentiment of this tweet? Please ch...  \n",
      "3  What is the sentiment of this tweet? Please ch...  \n",
      "4  What is the sentiment of this tweet? Please ch...  \n"
     ]
    },
    {
     "data": {
      "application/vnd.jupyter.widget-view+json": {
       "model_id": "368bb0f0c63b461788f49d2ec816ce97",
       "version_major": 2,
       "version_minor": 0
      },
      "text/plain": [
       "README.md:   0%|          | 0.00/449 [00:00<?, ?B/s]"
      ]
     },
     "metadata": {},
     "output_type": "display_data"
    },
    {
     "data": {
      "application/vnd.jupyter.widget-view+json": {
       "model_id": "18a7422c9a1843e49ee41949df7be543",
       "version_major": 2,
       "version_minor": 0
      },
      "text/plain": [
       "train-00000-of-00001.parquet:   0%|          | 0.00/1.88M [00:00<?, ?B/s]"
      ]
     },
     "metadata": {},
     "output_type": "display_data"
    },
    {
     "data": {
      "application/vnd.jupyter.widget-view+json": {
       "model_id": "c48c42abc1264a46be13c138ea2d7610",
       "version_major": 2,
       "version_minor": 0
      },
      "text/plain": [
       "test-00000-of-00001.parquet:   0%|          | 0.00/474k [00:00<?, ?B/s]"
      ]
     },
     "metadata": {},
     "output_type": "display_data"
    },
    {
     "data": {
      "application/vnd.jupyter.widget-view+json": {
       "model_id": "b08d1593e5ce4a6985624af3a071e97d",
       "version_major": 2,
       "version_minor": 0
      },
      "text/plain": [
       "Generating train split:   0%|          | 0/16184 [00:00<?, ? examples/s]"
      ]
     },
     "metadata": {},
     "output_type": "display_data"
    },
    {
     "data": {
      "application/vnd.jupyter.widget-view+json": {
       "model_id": "0bd3631271e243b790d0cd03f6f77ef2",
       "version_major": 2,
       "version_minor": 0
      },
      "text/plain": [
       "Generating test split:   0%|          | 0/4047 [00:00<?, ? examples/s]"
      ]
     },
     "metadata": {},
     "output_type": "display_data"
    },
    {
     "name": "stdout",
     "output_type": "stream",
     "text": [
      "\n",
      "NWGI Dataset Head:\n",
      "                                            question  \\\n",
      "0  What is the sentiment of this headline? Please...   \n",
      "1  What is the sentiment of this headline? Please...   \n",
      "2  What is the sentiment of this headline? Please...   \n",
      "3  What is the sentiment of this headline? Please...   \n",
      "4  What is the sentiment of this headline? Please...   \n",
      "\n",
      "                                             context               answer  \n",
      "0  This article discusses seven Warren Buffett st...  moderately positive  \n",
      "1  Amid a soft performance for the major equity i...  moderately negative  \n",
      "2  CEO Andy Jassy says Amazon is \"trying lots of ...  moderately positive  \n",
      "3  COP, APA, and AAPL made it to the Zacks Rank #...  moderately positive  \n",
      "4  This segment originally aired on December 28, ...  moderately positive  \n"
     ]
    },
    {
     "data": {
      "application/vnd.jupyter.widget-view+json": {
       "model_id": "3817ef8729d24ba4ac5b8bf205aac8fb",
       "version_major": 2,
       "version_minor": 0
      },
      "text/plain": [
       "README.md:   0%|          | 0.00/340 [00:00<?, ?B/s]"
      ]
     },
     "metadata": {},
     "output_type": "display_data"
    },
    {
     "data": {
      "application/vnd.jupyter.widget-view+json": {
       "model_id": "2b1afb701b854b518323e47cf39873a8",
       "version_major": 2,
       "version_minor": 0
      },
      "text/plain": [
       "test-00000-of-00001.parquet:   0%|          | 0.00/86.5k [00:00<?, ?B/s]"
      ]
     },
     "metadata": {},
     "output_type": "display_data"
    },
    {
     "data": {
      "application/vnd.jupyter.widget-view+json": {
       "model_id": "6287c134dd5143c6b21eb360a4fbfb90",
       "version_major": 2,
       "version_minor": 0
      },
      "text/plain": [
       "Generating test split:   0%|          | 0/970 [00:00<?, ? examples/s]"
      ]
     },
     "metadata": {},
     "output_type": "display_data"
    },
    {
     "name": "stdout",
     "output_type": "stream",
     "text": [
      "\n",
      "FPB Dataset Head:\n",
      "      label                                               text  \\\n",
      "0   neutral  The purchase sum is about EUR 10mn US$ 12.97 mn .   \n",
      "1  positive  The Dutch broker noted that Nokian Tyres repor...   \n",
      "2  negative  The first ship has been delayed and is estimat...   \n",
      "3   neutral  `` This transaction supports Huhtamaki 's stra...   \n",
      "4  positive  Finnish KCI Konecranes has been awarded an ord...   \n",
      "\n",
      "                                         instruction  \n",
      "0  you are a skilled financial analyst specialize...  \n",
      "1  you are a skilled financial analyst specialize...  \n",
      "2  you are a skilled financial analyst specialize...  \n",
      "3  you are a skilled financial analyst specialize...  \n",
      "4  you are a skilled financial analyst specialize...  \n"
     ]
    }
   ],
   "source": [
    "# 必要库安装（如果未安装）\n",
    "# pip install datasets huggingface_hub\n",
    "\n",
    "import pandas as pd\n",
    "from datasets import load_dataset\n",
    "\n",
    "# 加载各个数据集并转换为 DataFrame\n",
    "# 加载 tfns 数据集\n",
    "dataset_tfns = load_dataset(\"dohonba/tfns\", split=\"train\")\n",
    "df_tfns = pd.DataFrame(dataset_tfns)\n",
    "\n",
    "# 显示 tfns 数据集的表头\n",
    "print(\"TFNS Dataset Head:\")\n",
    "print(df_tfns.head())\n",
    "\n",
    "# 加载 nwgi 数据集\n",
    "dataset_nwgi = load_dataset(\"dohonba/nwgi\", split=\"train\")\n",
    "df_nwgi = pd.DataFrame(dataset_nwgi)\n",
    "\n",
    "# 显示 nwgi 数据集的表头\n",
    "print(\"\\nNWGI Dataset Head:\")\n",
    "print(df_nwgi.head())\n",
    "\n",
    "# 加载 fpb 数据集\n",
    "dataset_fpb = load_dataset(\"Sorour/sentiment-test-fpb\", split=\"test\")\n",
    "df_fpb = pd.DataFrame(dataset_fpb)\n",
    "\n",
    "# 显示 fpb 数据集的表头\n",
    "print(\"\\nFPB Dataset Head:\")\n",
    "print(df_fpb.head())\n"
   ]
  },
  {
   "cell_type": "code",
   "execution_count": 2,
   "id": "d9b71568-c064-42a9-bea8-21de97f4544e",
   "metadata": {},
   "outputs": [
    {
     "name": "stdout",
     "output_type": "stream",
     "text": [
      "合并完成并导出为 combined_dataset.csv 文件。\n"
     ]
    }
   ],
   "source": [
    "import pandas as pd\n",
    "from datasets import load_dataset\n",
    "\n",
    "# 加载各个数据集\n",
    "dataset_tfns = load_dataset(\"dohonba/tfns\", split=\"train\")\n",
    "df_tfns = pd.DataFrame(dataset_tfns)\n",
    "\n",
    "dataset_nwgi = load_dataset(\"dohonba/nwgi\", split=\"train\")\n",
    "df_nwgi = pd.DataFrame(dataset_nwgi)\n",
    "\n",
    "dataset_fpb = load_dataset(\"Sorour/sentiment-test-fpb\", split=\"test\")\n",
    "df_fpb = pd.DataFrame(dataset_fpb)\n",
    "\n",
    "\n",
    "df_tfns = df_tfns.rename(columns={\"question\": \"instruction\", \"context\": \"context\", \"answer\": \"label\"})\n",
    "df_tfns = df_tfns[['instruction', 'context', 'label']]  # 强制列顺序\n",
    "\n",
    "# 将 nwgi 数据集标准化并重新排列列顺序\n",
    "df_nwgi = df_nwgi.rename(columns={\"question\": \"instruction\", \"context\": \"context\", \"answer\": \"label\"})\n",
    "df_nwgi = df_nwgi[['instruction', 'context', 'label']]  # 强制列顺序\n",
    "\n",
    "# 将 fpb 数据集标准化并重新排列列顺序\n",
    "df_fpb = df_fpb.rename(columns={\"instruction\": \"instruction\", \"text\": \"context\", \"label\": \"label\"})\n",
    "df_fpb = df_fpb[['instruction', 'context', 'label']]  # 强制列顺序\n",
    "\n",
    "# 合并所有数据集\n",
    "combined_df = pd.concat([df_tfns, df_nwgi, df_fpb], ignore_index=True)\n",
    "\n",
    "# 重置索引以便于查看排序后的结构\n",
    "combined_df = combined_df.sort_values(by=['instruction']).reset_index(drop=True)\n",
    "\n",
    "# 导出为 CSV 文件\n",
    "combined_df.to_csv(\"combined_dataset.csv\", index=False)\n",
    "\n",
    "print(\"合并完成并导出为 combined_dataset.csv 文件。\")\n",
    "combined_df"
   ]
  },
  {
   "cell_type": "code",
   "execution_count": 3,
   "id": "d43f1851-6bc1-460a-a046-89f2e334be79",
   "metadata": {},
   "outputs": [
    {
     "data": {
      "text/html": [
       "<div>\n",
       "<style scoped>\n",
       "    .dataframe tbody tr th:only-of-type {\n",
       "        vertical-align: middle;\n",
       "    }\n",
       "\n",
       "    .dataframe tbody tr th {\n",
       "        vertical-align: top;\n",
       "    }\n",
       "\n",
       "    .dataframe thead th {\n",
       "        text-align: right;\n",
       "    }\n",
       "</style>\n",
       "<table border=\"1\" class=\"dataframe\">\n",
       "  <thead>\n",
       "    <tr style=\"text-align: right;\">\n",
       "      <th></th>\n",
       "      <th>instruction</th>\n",
       "      <th>context</th>\n",
       "      <th>label</th>\n",
       "    </tr>\n",
       "  </thead>\n",
       "  <tbody>\n",
       "    <tr>\n",
       "      <th>0</th>\n",
       "      <td>What is the sentiment of this headline? Please...</td>\n",
       "      <td>Investors looking for robust shares may consid...</td>\n",
       "      <td>moderately positive</td>\n",
       "    </tr>\n",
       "    <tr>\n",
       "      <th>1</th>\n",
       "      <td>What is the sentiment of this headline? Please...</td>\n",
       "      <td>The e-commerce behemoth, which has previously ...</td>\n",
       "      <td>moderately negative</td>\n",
       "    </tr>\n",
       "    <tr>\n",
       "      <th>2</th>\n",
       "      <td>What is the sentiment of this headline? Please...</td>\n",
       "      <td>Vertex Pharmaceuticals Incorporated (NASDAQ:VR...</td>\n",
       "      <td>mildly positive</td>\n",
       "    </tr>\n",
       "    <tr>\n",
       "      <th>3</th>\n",
       "      <td>What is the sentiment of this headline? Please...</td>\n",
       "      <td>Netflix will report fourth-quarter fiscal 2021...</td>\n",
       "      <td>neutral</td>\n",
       "    </tr>\n",
       "    <tr>\n",
       "      <th>4</th>\n",
       "      <td>What is the sentiment of this headline? Please...</td>\n",
       "      <td>Twitter and Facebook parent Meta previously mo...</td>\n",
       "      <td>moderately positive</td>\n",
       "    </tr>\n",
       "    <tr>\n",
       "      <th>...</th>\n",
       "      <td>...</td>\n",
       "      <td>...</td>\n",
       "      <td>...</td>\n",
       "    </tr>\n",
       "    <tr>\n",
       "      <th>26692</th>\n",
       "      <td>you are a skilled financial analyst specialize...</td>\n",
       "      <td>The contract covers HDO platform , AC800 and C...</td>\n",
       "      <td>positive</td>\n",
       "    </tr>\n",
       "    <tr>\n",
       "      <th>26693</th>\n",
       "      <td>you are a skilled financial analyst specialize...</td>\n",
       "      <td>LONDON MarketWatch -- Share prices ended lower...</td>\n",
       "      <td>negative</td>\n",
       "    </tr>\n",
       "    <tr>\n",
       "      <th>26694</th>\n",
       "      <td>you are a skilled financial analyst specialize...</td>\n",
       "      <td>Affecto has participated in the program for th...</td>\n",
       "      <td>neutral</td>\n",
       "    </tr>\n",
       "    <tr>\n",
       "      <th>26695</th>\n",
       "      <td>you are a skilled financial analyst specialize...</td>\n",
       "      <td>Finnair said that the cancellation of flights ...</td>\n",
       "      <td>negative</td>\n",
       "    </tr>\n",
       "    <tr>\n",
       "      <th>26696</th>\n",
       "      <td>you are a skilled financial analyst specialize...</td>\n",
       "      <td>Operating profit improved by 27 % to EUR 579.8...</td>\n",
       "      <td>positive</td>\n",
       "    </tr>\n",
       "  </tbody>\n",
       "</table>\n",
       "<p>26697 rows × 3 columns</p>\n",
       "</div>"
      ],
      "text/plain": [
       "                                             instruction  \\\n",
       "0      What is the sentiment of this headline? Please...   \n",
       "1      What is the sentiment of this headline? Please...   \n",
       "2      What is the sentiment of this headline? Please...   \n",
       "3      What is the sentiment of this headline? Please...   \n",
       "4      What is the sentiment of this headline? Please...   \n",
       "...                                                  ...   \n",
       "26692  you are a skilled financial analyst specialize...   \n",
       "26693  you are a skilled financial analyst specialize...   \n",
       "26694  you are a skilled financial analyst specialize...   \n",
       "26695  you are a skilled financial analyst specialize...   \n",
       "26696  you are a skilled financial analyst specialize...   \n",
       "\n",
       "                                                 context                label  \n",
       "0      Investors looking for robust shares may consid...  moderately positive  \n",
       "1      The e-commerce behemoth, which has previously ...  moderately negative  \n",
       "2      Vertex Pharmaceuticals Incorporated (NASDAQ:VR...      mildly positive  \n",
       "3      Netflix will report fourth-quarter fiscal 2021...              neutral  \n",
       "4      Twitter and Facebook parent Meta previously mo...  moderately positive  \n",
       "...                                                  ...                  ...  \n",
       "26692  The contract covers HDO platform , AC800 and C...             positive  \n",
       "26693  LONDON MarketWatch -- Share prices ended lower...             negative  \n",
       "26694  Affecto has participated in the program for th...              neutral  \n",
       "26695  Finnair said that the cancellation of flights ...             negative  \n",
       "26696  Operating profit improved by 27 % to EUR 579.8...             positive  \n",
       "\n",
       "[26697 rows x 3 columns]"
      ]
     },
     "execution_count": 3,
     "metadata": {},
     "output_type": "execute_result"
    }
   ],
   "source": [
    "combined_df"
   ]
  },
  {
   "cell_type": "code",
   "execution_count": 4,
   "id": "fc7b1363-c631-4086-84c8-b71edd84ce62",
   "metadata": {},
   "outputs": [],
   "source": [
    "df_finance = pd.read_csv('financial_related_2024_data.csv')"
   ]
  },
  {
   "cell_type": "code",
   "execution_count": 5,
   "id": "03509c0e-1f10-4ae1-8b9f-f11aa7d58bdb",
   "metadata": {},
   "outputs": [
    {
     "data": {
      "text/html": [
       "<div>\n",
       "<style scoped>\n",
       "    .dataframe tbody tr th:only-of-type {\n",
       "        vertical-align: middle;\n",
       "    }\n",
       "\n",
       "    .dataframe tbody tr th {\n",
       "        vertical-align: top;\n",
       "    }\n",
       "\n",
       "    .dataframe thead th {\n",
       "        text-align: right;\n",
       "    }\n",
       "</style>\n",
       "<table border=\"1\" class=\"dataframe\">\n",
       "  <thead>\n",
       "    <tr style=\"text-align: right;\">\n",
       "      <th></th>\n",
       "      <th>date</th>\n",
       "      <th>title</th>\n",
       "      <th>content</th>\n",
       "    </tr>\n",
       "  </thead>\n",
       "  <tbody>\n",
       "    <tr>\n",
       "      <th>0</th>\n",
       "      <td>2024-06-20T12:19:25-0400</td>\n",
       "      <td>\"We're flying blind\": CDC has 1 million bird f...</td>\n",
       "      <td>It's been nearly three months since the U.S. g...</td>\n",
       "    </tr>\n",
       "    <tr>\n",
       "      <th>1</th>\n",
       "      <td>2024-06-21T15:15:24-0600</td>\n",
       "      <td>CDK cyberattack shuts down auto dealerships ac...</td>\n",
       "      <td>CDK Global, a company that provides auto deale...</td>\n",
       "    </tr>\n",
       "    <tr>\n",
       "      <th>2</th>\n",
       "      <td>2024-06-16T08:18:54-0500</td>\n",
       "      <td>Twin Cities bakery helping raise funds for LGB...</td>\n",
       "      <td>An award-winning youth run business is celebra...</td>\n",
       "    </tr>\n",
       "    <tr>\n",
       "      <th>3</th>\n",
       "      <td>2024-06-12T16:16:00-0500</td>\n",
       "      <td>Minneapolis named happiest city in the U.S.</td>\n",
       "      <td>Minneapolis has been named the happiest city i...</td>\n",
       "    </tr>\n",
       "    <tr>\n",
       "      <th>4</th>\n",
       "      <td>2024-05-19T12:00:00-0400</td>\n",
       "      <td>Sentencing trial set to begin for Florida man ...</td>\n",
       "      <td>Zephen Xaver walked into a central Florida ban...</td>\n",
       "    </tr>\n",
       "    <tr>\n",
       "      <th>...</th>\n",
       "      <td>...</td>\n",
       "      <td>...</td>\n",
       "      <td>...</td>\n",
       "    </tr>\n",
       "    <tr>\n",
       "      <th>6705</th>\n",
       "      <td>2024-06-28T01:11:00-0700</td>\n",
       "      <td>South Bay barbershop customers weigh in on pre...</td>\n",
       "      <td>Thursday's televised presidential debate betwe...</td>\n",
       "    </tr>\n",
       "    <tr>\n",
       "      <th>6706</th>\n",
       "      <td>2024-06-29T18:32:50-0400</td>\n",
       "      <td>Fort Lauderdale businesses preparing for massi...</td>\n",
       "      <td>—   Sinbad Sports stocked up on shirts and ch...</td>\n",
       "    </tr>\n",
       "    <tr>\n",
       "      <th>6707</th>\n",
       "      <td>2024-06-26T18:03:22-0400</td>\n",
       "      <td>Judge freezes up to $39.3M in former Detroit R...</td>\n",
       "      <td>A federal judge granted a temporary restrainin...</td>\n",
       "    </tr>\n",
       "    <tr>\n",
       "      <th>6708</th>\n",
       "      <td>2024-06-30T14:49:09-0400</td>\n",
       "      <td>France's far right takes strong lead in first ...</td>\n",
       "      <td>French voters propelled the far-right National...</td>\n",
       "    </tr>\n",
       "    <tr>\n",
       "      <th>6709</th>\n",
       "      <td>2024-06-30T13:22:37-0400</td>\n",
       "      <td>Transcript: Maryland Gov. Wes Moore on \"Face t...</td>\n",
       "      <td>MARGARET BRENNAN: Good morning and welcome to ...</td>\n",
       "    </tr>\n",
       "  </tbody>\n",
       "</table>\n",
       "<p>6710 rows × 3 columns</p>\n",
       "</div>"
      ],
      "text/plain": [
       "                          date  \\\n",
       "0     2024-06-20T12:19:25-0400   \n",
       "1     2024-06-21T15:15:24-0600   \n",
       "2     2024-06-16T08:18:54-0500   \n",
       "3     2024-06-12T16:16:00-0500   \n",
       "4     2024-05-19T12:00:00-0400   \n",
       "...                        ...   \n",
       "6705  2024-06-28T01:11:00-0700   \n",
       "6706  2024-06-29T18:32:50-0400   \n",
       "6707  2024-06-26T18:03:22-0400   \n",
       "6708  2024-06-30T14:49:09-0400   \n",
       "6709  2024-06-30T13:22:37-0400   \n",
       "\n",
       "                                                  title  \\\n",
       "0     \"We're flying blind\": CDC has 1 million bird f...   \n",
       "1     CDK cyberattack shuts down auto dealerships ac...   \n",
       "2     Twin Cities bakery helping raise funds for LGB...   \n",
       "3           Minneapolis named happiest city in the U.S.   \n",
       "4     Sentencing trial set to begin for Florida man ...   \n",
       "...                                                 ...   \n",
       "6705  South Bay barbershop customers weigh in on pre...   \n",
       "6706  Fort Lauderdale businesses preparing for massi...   \n",
       "6707  Judge freezes up to $39.3M in former Detroit R...   \n",
       "6708  France's far right takes strong lead in first ...   \n",
       "6709  Transcript: Maryland Gov. Wes Moore on \"Face t...   \n",
       "\n",
       "                                                content  \n",
       "0     It's been nearly three months since the U.S. g...  \n",
       "1     CDK Global, a company that provides auto deale...  \n",
       "2     An award-winning youth run business is celebra...  \n",
       "3     Minneapolis has been named the happiest city i...  \n",
       "4     Zephen Xaver walked into a central Florida ban...  \n",
       "...                                                 ...  \n",
       "6705  Thursday's televised presidential debate betwe...  \n",
       "6706   —   Sinbad Sports stocked up on shirts and ch...  \n",
       "6707  A federal judge granted a temporary restrainin...  \n",
       "6708  French voters propelled the far-right National...  \n",
       "6709  MARGARET BRENNAN: Good morning and welcome to ...  \n",
       "\n",
       "[6710 rows x 3 columns]"
      ]
     },
     "execution_count": 5,
     "metadata": {},
     "output_type": "execute_result"
    }
   ],
   "source": [
    "df_finance "
   ]
  },
  {
   "cell_type": "code",
   "execution_count": 7,
   "id": "ab9112b7-bece-4910-b64f-6110ee6b6d0a",
   "metadata": {},
   "outputs": [
    {
     "data": {
      "text/html": [
       "<div>\n",
       "<style scoped>\n",
       "    .dataframe tbody tr th:only-of-type {\n",
       "        vertical-align: middle;\n",
       "    }\n",
       "\n",
       "    .dataframe tbody tr th {\n",
       "        vertical-align: top;\n",
       "    }\n",
       "\n",
       "    .dataframe thead th {\n",
       "        text-align: right;\n",
       "    }\n",
       "</style>\n",
       "<table border=\"1\" class=\"dataframe\">\n",
       "  <thead>\n",
       "    <tr style=\"text-align: right;\">\n",
       "      <th></th>\n",
       "      <th>instruction</th>\n",
       "      <th>context</th>\n",
       "      <th>label</th>\n",
       "    </tr>\n",
       "  </thead>\n",
       "  <tbody>\n",
       "    <tr>\n",
       "      <th>0</th>\n",
       "      <td>\"We're flying blind\": CDC has 1 million bird f...</td>\n",
       "      <td>It's been nearly three months since the U.S. g...</td>\n",
       "      <td>None</td>\n",
       "    </tr>\n",
       "    <tr>\n",
       "      <th>1</th>\n",
       "      <td>CDK cyberattack shuts down auto dealerships ac...</td>\n",
       "      <td>CDK Global, a company that provides auto deale...</td>\n",
       "      <td>None</td>\n",
       "    </tr>\n",
       "    <tr>\n",
       "      <th>2</th>\n",
       "      <td>Twin Cities bakery helping raise funds for LGB...</td>\n",
       "      <td>An award-winning youth run business is celebra...</td>\n",
       "      <td>None</td>\n",
       "    </tr>\n",
       "    <tr>\n",
       "      <th>3</th>\n",
       "      <td>Minneapolis named happiest city in the U.S.</td>\n",
       "      <td>Minneapolis has been named the happiest city i...</td>\n",
       "      <td>None</td>\n",
       "    </tr>\n",
       "    <tr>\n",
       "      <th>4</th>\n",
       "      <td>Sentencing trial set to begin for Florida man ...</td>\n",
       "      <td>Zephen Xaver walked into a central Florida ban...</td>\n",
       "      <td>None</td>\n",
       "    </tr>\n",
       "  </tbody>\n",
       "</table>\n",
       "</div>"
      ],
      "text/plain": [
       "                                         instruction  \\\n",
       "0  \"We're flying blind\": CDC has 1 million bird f...   \n",
       "1  CDK cyberattack shuts down auto dealerships ac...   \n",
       "2  Twin Cities bakery helping raise funds for LGB...   \n",
       "3        Minneapolis named happiest city in the U.S.   \n",
       "4  Sentencing trial set to begin for Florida man ...   \n",
       "\n",
       "                                             context label  \n",
       "0  It's been nearly three months since the U.S. g...  None  \n",
       "1  CDK Global, a company that provides auto deale...  None  \n",
       "2  An award-winning youth run business is celebra...  None  \n",
       "3  Minneapolis has been named the happiest city i...  None  \n",
       "4  Zephen Xaver walked into a central Florida ban...  None  "
      ]
     },
     "execution_count": 7,
     "metadata": {},
     "output_type": "execute_result"
    }
   ],
   "source": [
    "# 加载并处理 df_finance 数据集\n",
    "df_finance = pd.read_csv('financial_related_2024_data.csv')\n",
    "\n",
    "# 去掉时间列，将 title 列重命名为 instruction，content 列重命名为 context，并添加空的 label 列\n",
    "df_finance = df_finance.drop(columns=['date']).rename(columns={'title': 'instruction', 'content': 'context'})\n",
    "df_finance['label'] = None  # 添加空值的 label 列\n",
    "\n",
    "# 查看处理后的表头\n",
    "df_finance.head()\n"
   ]
  },
  {
   "cell_type": "code",
   "execution_count": null,
   "id": "b1bb0ccb-0eee-42b9-a061-bea5cb6b2716",
   "metadata": {},
   "outputs": [],
   "source": []
  },
  {
   "cell_type": "code",
   "execution_count": 8,
   "id": "751051fe-46f7-418d-85a0-5478ef78e954",
   "metadata": {},
   "outputs": [
    {
     "name": "stdout",
     "output_type": "stream",
     "text": [
      "合并完成并导出为 final_combined_dataset.csv 文件。\n"
     ]
    }
   ],
   "source": [
    "merged_df = pd.concat([combined_df, df_finance], ignore_index=True)\n",
    "\n",
    "# 导出合并后的数据集\n",
    "merged_df.to_csv('final_combined_dataset.csv', index=False)\n",
    "\n",
    "print(\"合并完成并导出为 final_combined_dataset.csv 文件。\")"
   ]
  },
  {
   "cell_type": "code",
   "execution_count": 9,
   "id": "b6f23291-04eb-4cc4-b7d0-921ebed130f7",
   "metadata": {},
   "outputs": [
    {
     "data": {
      "text/html": [
       "<div>\n",
       "<style scoped>\n",
       "    .dataframe tbody tr th:only-of-type {\n",
       "        vertical-align: middle;\n",
       "    }\n",
       "\n",
       "    .dataframe tbody tr th {\n",
       "        vertical-align: top;\n",
       "    }\n",
       "\n",
       "    .dataframe thead th {\n",
       "        text-align: right;\n",
       "    }\n",
       "</style>\n",
       "<table border=\"1\" class=\"dataframe\">\n",
       "  <thead>\n",
       "    <tr style=\"text-align: right;\">\n",
       "      <th></th>\n",
       "      <th>instruction</th>\n",
       "      <th>context</th>\n",
       "      <th>label</th>\n",
       "    </tr>\n",
       "  </thead>\n",
       "  <tbody>\n",
       "    <tr>\n",
       "      <th>0</th>\n",
       "      <td>What is the sentiment of this headline? Please...</td>\n",
       "      <td>Investors looking for robust shares may consid...</td>\n",
       "      <td>moderately positive</td>\n",
       "    </tr>\n",
       "    <tr>\n",
       "      <th>1</th>\n",
       "      <td>What is the sentiment of this headline? Please...</td>\n",
       "      <td>The e-commerce behemoth, which has previously ...</td>\n",
       "      <td>moderately negative</td>\n",
       "    </tr>\n",
       "    <tr>\n",
       "      <th>2</th>\n",
       "      <td>What is the sentiment of this headline? Please...</td>\n",
       "      <td>Vertex Pharmaceuticals Incorporated (NASDAQ:VR...</td>\n",
       "      <td>mildly positive</td>\n",
       "    </tr>\n",
       "    <tr>\n",
       "      <th>3</th>\n",
       "      <td>What is the sentiment of this headline? Please...</td>\n",
       "      <td>Netflix will report fourth-quarter fiscal 2021...</td>\n",
       "      <td>neutral</td>\n",
       "    </tr>\n",
       "    <tr>\n",
       "      <th>4</th>\n",
       "      <td>What is the sentiment of this headline? Please...</td>\n",
       "      <td>Twitter and Facebook parent Meta previously mo...</td>\n",
       "      <td>moderately positive</td>\n",
       "    </tr>\n",
       "    <tr>\n",
       "      <th>...</th>\n",
       "      <td>...</td>\n",
       "      <td>...</td>\n",
       "      <td>...</td>\n",
       "    </tr>\n",
       "    <tr>\n",
       "      <th>33402</th>\n",
       "      <td>South Bay barbershop customers weigh in on pre...</td>\n",
       "      <td>Thursday's televised presidential debate betwe...</td>\n",
       "      <td>None</td>\n",
       "    </tr>\n",
       "    <tr>\n",
       "      <th>33403</th>\n",
       "      <td>Fort Lauderdale businesses preparing for massi...</td>\n",
       "      <td>—   Sinbad Sports stocked up on shirts and ch...</td>\n",
       "      <td>None</td>\n",
       "    </tr>\n",
       "    <tr>\n",
       "      <th>33404</th>\n",
       "      <td>Judge freezes up to $39.3M in former Detroit R...</td>\n",
       "      <td>A federal judge granted a temporary restrainin...</td>\n",
       "      <td>None</td>\n",
       "    </tr>\n",
       "    <tr>\n",
       "      <th>33405</th>\n",
       "      <td>France's far right takes strong lead in first ...</td>\n",
       "      <td>French voters propelled the far-right National...</td>\n",
       "      <td>None</td>\n",
       "    </tr>\n",
       "    <tr>\n",
       "      <th>33406</th>\n",
       "      <td>Transcript: Maryland Gov. Wes Moore on \"Face t...</td>\n",
       "      <td>MARGARET BRENNAN: Good morning and welcome to ...</td>\n",
       "      <td>None</td>\n",
       "    </tr>\n",
       "  </tbody>\n",
       "</table>\n",
       "<p>33407 rows × 3 columns</p>\n",
       "</div>"
      ],
      "text/plain": [
       "                                             instruction  \\\n",
       "0      What is the sentiment of this headline? Please...   \n",
       "1      What is the sentiment of this headline? Please...   \n",
       "2      What is the sentiment of this headline? Please...   \n",
       "3      What is the sentiment of this headline? Please...   \n",
       "4      What is the sentiment of this headline? Please...   \n",
       "...                                                  ...   \n",
       "33402  South Bay barbershop customers weigh in on pre...   \n",
       "33403  Fort Lauderdale businesses preparing for massi...   \n",
       "33404  Judge freezes up to $39.3M in former Detroit R...   \n",
       "33405  France's far right takes strong lead in first ...   \n",
       "33406  Transcript: Maryland Gov. Wes Moore on \"Face t...   \n",
       "\n",
       "                                                 context                label  \n",
       "0      Investors looking for robust shares may consid...  moderately positive  \n",
       "1      The e-commerce behemoth, which has previously ...  moderately negative  \n",
       "2      Vertex Pharmaceuticals Incorporated (NASDAQ:VR...      mildly positive  \n",
       "3      Netflix will report fourth-quarter fiscal 2021...              neutral  \n",
       "4      Twitter and Facebook parent Meta previously mo...  moderately positive  \n",
       "...                                                  ...                  ...  \n",
       "33402  Thursday's televised presidential debate betwe...                 None  \n",
       "33403   —   Sinbad Sports stocked up on shirts and ch...                 None  \n",
       "33404  A federal judge granted a temporary restrainin...                 None  \n",
       "33405  French voters propelled the far-right National...                 None  \n",
       "33406  MARGARET BRENNAN: Good morning and welcome to ...                 None  \n",
       "\n",
       "[33407 rows x 3 columns]"
      ]
     },
     "execution_count": 9,
     "metadata": {},
     "output_type": "execute_result"
    }
   ],
   "source": [
    "merged_df "
   ]
  },
  {
   "cell_type": "code",
   "execution_count": null,
   "id": "10d3b7da-eaf7-4927-9f68-82740e7f0193",
   "metadata": {},
   "outputs": [],
   "source": []
  }
 ],
 "metadata": {
  "kernelspec": {
   "display_name": "Python 3 (ipykernel)",
   "language": "python",
   "name": "python3"
  },
  "language_info": {
   "codemirror_mode": {
    "name": "ipython",
    "version": 3
   },
   "file_extension": ".py",
   "mimetype": "text/x-python",
   "name": "python",
   "nbconvert_exporter": "python",
   "pygments_lexer": "ipython3",
   "version": "3.10.13"
  }
 },
 "nbformat": 4,
 "nbformat_minor": 5
}
